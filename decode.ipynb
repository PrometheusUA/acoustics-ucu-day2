{
 "cells": [
  {
   "cell_type": "code",
   "execution_count": 72,
   "metadata": {},
   "outputs": [],
   "source": [
    "import torch\n",
    "import torch.nn as nn\n",
    "import torchaudio\n",
    "from g2p_en import G2p\n",
    "from tqdm import tqdm\n",
    "\n",
    "from praatio import textgrid as tgio\n",
    "from praatio.data_classes.interval_tier import Interval"
   ]
  },
  {
   "cell_type": "code",
   "execution_count": 3,
   "metadata": {},
   "outputs": [],
   "source": [
    "def make_frames(wav):\n",
    "    return torchaudio.compliance.kaldi.mfcc(wav)"
   ]
  },
  {
   "cell_type": "code",
   "execution_count": 62,
   "metadata": {},
   "outputs": [],
   "source": [
    "class LibriSpeech(torch.utils.data.Dataset):\n",
    "    def __init__(self, url=\"dev-clean\"):\n",
    "        super().__init__()\n",
    "        self.librispeech = torchaudio.datasets.LIBRISPEECH(\".\", url=url, download=True)\n",
    "\n",
    "    def __len__(self):\n",
    "        return len(self.librispeech)\n",
    "\n",
    "    def __getitem__(self, index):\n",
    "        wav, sr, text, speaker_id, chapter_id, utterance_id = self.librispeech[index]\n",
    "        return make_frames(wav), text, (speaker_id, chapter_id, utterance_id)"
   ]
  },
  {
   "cell_type": "code",
   "execution_count": 5,
   "metadata": {},
   "outputs": [],
   "source": [
    "class Encoder(nn.Module):\n",
    "    def __init__(self, input_dim=13, subsample_dim=128, hidden_dim=1024):\n",
    "        super().__init__()\n",
    "        self.subsample = nn.Conv1d(input_dim, subsample_dim, 5, stride=4, padding=3)\n",
    "        self.lstm = nn.LSTM(\n",
    "            subsample_dim, hidden_dim, batch_first=True, num_layers=3, dropout=0.2\n",
    "        )\n",
    "\n",
    "    def subsampled_lengths(self, input_lengths):\n",
    "        # https://github.com/vdumoulin/conv_arithmetic\n",
    "        p, k, s = (\n",
    "            self.subsample.padding[0],\n",
    "            self.subsample.kernel_size[0],\n",
    "            self.subsample.stride[0],\n",
    "        )\n",
    "        o = input_lengths + 2 * p - k\n",
    "        o = torch.floor(o / s + 1)\n",
    "        return o.int()\n",
    "\n",
    "    def forward(self, inputs):\n",
    "        x = inputs\n",
    "        x = self.subsample(x.mT).mT\n",
    "        x = x.relu()\n",
    "        x, _ = self.lstm(x)\n",
    "        return x.relu()"
   ]
  },
  {
   "cell_type": "code",
   "execution_count": 57,
   "metadata": {},
   "outputs": [],
   "source": [
    "class Vocabulary:\n",
    "    def __init__(self):\n",
    "        self.g2p = G2p()\n",
    "\n",
    "        # http://www.speech.cs.cmu.edu/cgi-bin/cmudict\n",
    "        self.rdictionary = [\"ε\", # CTC blank\n",
    "                            \" \",\n",
    "                            \"AA0\", \"AA1\", \"AE0\", \"AE1\", \"AH0\", \"AH1\", \"AO0\", \"AO1\", \"AW0\", \"AW1\", \"AY0\", \"AY1\",\n",
    "                            \"B\", \"CH\", \"D\", \"DH\",\n",
    "                            \"EH0\", \"EH1\", \"ER0\", \"ER1\", \"EY0\", \"EY1\",\n",
    "                            \"F\", \"G\", \"HH\",\n",
    "                            \"IH0\", \"IH1\", \"IY0\", \"IY1\",\n",
    "                            \"JH\", \"K\", \"L\", \"M\", \"N\", \"NG\",\n",
    "                            \"OW0\", \"OW1\", \"OY0\", \"OY1\",\n",
    "                            \"P\", \"R\", \"S\", \"SH\", \"T\", \"TH\",\n",
    "                            \"UH0\", \"UH1\", \"UW0\", \"UW1\",\n",
    "                            \"V\", \"W\", \"Y\", \"Z\", \"ZH\"]\n",
    "\n",
    "        self.dictionary = {c: i for i, c in enumerate(self.rdictionary)}\n",
    "\n",
    "    def __len__(self):\n",
    "        return len(self.rdictionary)\n",
    "\n",
    "    def encode(self, text):\n",
    "        labels = [c.replace('2', '0') for c in self.g2p(text) if c != \"'\"]\n",
    "        targets = torch.LongTensor([self.dictionary[phoneme] for phoneme in labels])\n",
    "        return targets\n",
    "\n",
    "    def decode(self, targets):\n",
    "        return [self.rdictionary[token] for token in targets]"
   ]
  },
  {
   "cell_type": "code",
   "execution_count": 58,
   "metadata": {},
   "outputs": [],
   "source": [
    "class Recognizer(nn.Module):\n",
    "    def __init__(self, feat_dim=1024, vocab_size=55+1):\n",
    "        super().__init__()\n",
    "        self.classifier = nn.Linear(feat_dim, vocab_size)\n",
    "\n",
    "    def forward(self, features):\n",
    "        features = self.classifier(features)\n",
    "        return features.log_softmax(dim=-1)"
   ]
  },
  {
   "cell_type": "code",
   "execution_count": 59,
   "metadata": {},
   "outputs": [],
   "source": [
    "vocab = Vocabulary()\n",
    "encoder = Encoder()\n",
    "recognizer = Recognizer()"
   ]
  },
  {
   "cell_type": "code",
   "execution_count": 60,
   "metadata": {},
   "outputs": [
    {
     "data": {
      "text/plain": [
       "<All keys matched successfully>"
      ]
     },
     "execution_count": 60,
     "metadata": {},
     "output_type": "execute_result"
    }
   ],
   "source": [
    "ckpt = torch.load('lstm_p3_360+500.pt', map_location='cpu')\n",
    "encoder.load_state_dict(ckpt['encoder'])\n",
    "recognizer.load_state_dict(ckpt['recognizer'])"
   ]
  },
  {
   "cell_type": "code",
   "execution_count": 63,
   "metadata": {},
   "outputs": [],
   "source": [
    "audio_frames, text, ids = LibriSpeech()[0]\n",
    "phonemes = vocab.encode(text)"
   ]
  },
  {
   "cell_type": "code",
   "execution_count": 64,
   "metadata": {},
   "outputs": [
    {
     "data": {
      "text/plain": [
       "(1272, 128104, 0)"
      ]
     },
     "execution_count": 64,
     "metadata": {},
     "output_type": "execute_result"
    }
   ],
   "source": [
    "ids"
   ]
  },
  {
   "cell_type": "code",
   "execution_count": 31,
   "metadata": {},
   "outputs": [],
   "source": [
    "features = encoder(audio_frames)\n",
    "outputs = recognizer.forward(features) # (T, 55+1)"
   ]
  },
  {
   "cell_type": "code",
   "execution_count": 32,
   "metadata": {},
   "outputs": [
    {
     "data": {
      "text/plain": [
       "'MISTER QUILTER IS THE APOSTLE OF THE MIDDLE CLASSES AND WE ARE GLAD TO WELCOME HIS GOSPEL'"
      ]
     },
     "execution_count": 32,
     "metadata": {},
     "output_type": "execute_result"
    }
   ],
   "source": [
    "text"
   ]
  },
  {
   "cell_type": "code",
   "execution_count": 39,
   "metadata": {},
   "outputs": [
    {
     "name": "stdout",
     "output_type": "stream",
     "text": [
      "real phonemes:        MIH1STER0 KWIH1LTER0 IH1Z DHAH0 AH0PAA1SAH0L AH1V DHAH0 MIH1DAH0L KLAE1SAH0Z AH0ND WIY1 AA1R GLAE1D TUW1 WEH1LKAH0M HHIH1Z GAA1SPAH0L\n",
      "predicted phonemes:  εεεεεεεεεεεεεεεεεεεεMIH1STER0  KRIH1LTTεER0ε  IH1Z DHAH0  εAH0εPPεAA1SεAH0AH0LL  AH1V DHAH0 MIH1DAH0LL KLLAE1εSεAH0εεZεε  εAH0ND WIH1εRR GLLAE1εDDε TεUW1WWEH1LεKεAH0M  HHHHIH1Z   GεAA1εSPPεAH0Lεεεεεεεε\n"
     ]
    }
   ],
   "source": [
    "print('real phonemes:       ', ''.join(vocab.decode(phonemes)))\n",
    "print(f'predicted phonemes: ', ''.join(vocab.decode(torch.argmax(outputs, dim=1))))"
   ]
  },
  {
   "cell_type": "code",
   "execution_count": 55,
   "metadata": {},
   "outputs": [
    {
     "data": {
      "text/plain": [
       "147"
      ]
     },
     "execution_count": 55,
     "metadata": {},
     "output_type": "execute_result"
    }
   ],
   "source": [
    "outputs.size()[0]"
   ]
  },
  {
   "cell_type": "code",
   "execution_count": 41,
   "metadata": {},
   "outputs": [],
   "source": [
    "output_dir = 'result'"
   ]
  },
  {
   "cell_type": "code",
   "execution_count": 76,
   "metadata": {},
   "outputs": [
    {
     "name": "stderr",
     "output_type": "stream",
     "text": [
      " 15%|█▍        | 401/2703 [04:03<15:04,  2.55it/s]"
     ]
    },
    {
     "name": "stdout",
     "output_type": "stream",
     "text": [
      "The start time of an interval (2.76) cannot occur after its end time (2.75)\n",
      "400 (1988, 24833, 22)\n"
     ]
    },
    {
     "name": "stderr",
     "output_type": "stream",
     "text": [
      " 26%|██▌       | 700/2703 [07:22<10:52,  3.07it/s]"
     ]
    },
    {
     "name": "stdout",
     "output_type": "stream",
     "text": [
      "The start time of an interval (2.88) cannot occur after its end time (2.88)\n",
      "699 (2277, 149896, 28)\n"
     ]
    },
    {
     "name": "stderr",
     "output_type": "stream",
     "text": [
      " 27%|██▋       | 742/2703 [07:41<21:35,  1.51it/s]"
     ]
    },
    {
     "name": "stdout",
     "output_type": "stream",
     "text": [
      "The start time of an interval (3.44) cannot occur after its end time (3.43)\n",
      "741 (2277, 149897, 35)\n"
     ]
    },
    {
     "name": "stderr",
     "output_type": "stream",
     "text": [
      " 28%|██▊       | 757/2703 [07:51<21:26,  1.51it/s]"
     ]
    },
    {
     "name": "stdout",
     "output_type": "stream",
     "text": [
      "The start time of an interval (1.96) cannot occur after its end time (1.96)\n",
      "756 (2412, 153947, 12)\n"
     ]
    },
    {
     "name": "stderr",
     "output_type": "stream",
     "text": [
      " 28%|██▊       | 767/2703 [08:00<29:47,  1.08it/s]"
     ]
    },
    {
     "name": "stdout",
     "output_type": "stream",
     "text": [
      "The start time of an interval (3.12) cannot occur after its end time (3.12)\n",
      "766 (2412, 153948, 5)\n"
     ]
    },
    {
     "name": "stderr",
     "output_type": "stream",
     "text": [
      " 30%|██▉       | 805/2703 [08:24<14:12,  2.23it/s]"
     ]
    },
    {
     "name": "stdout",
     "output_type": "stream",
     "text": [
      "The start time of an interval (4.24) cannot occur after its end time (4.24)\n",
      "804 (2428, 83699, 2)\n"
     ]
    },
    {
     "name": "stderr",
     "output_type": "stream",
     "text": [
      " 30%|███       | 816/2703 [08:30<13:10,  2.39it/s]"
     ]
    },
    {
     "name": "stdout",
     "output_type": "stream",
     "text": [
      "The start time of an interval (3.28) cannot occur after its end time (3.27)\n",
      "815 (2428, 83699, 13)\n"
     ]
    },
    {
     "name": "stderr",
     "output_type": "stream",
     "text": [
      " 32%|███▏      | 866/2703 [08:52<13:55,  2.20it/s]"
     ]
    },
    {
     "name": "stdout",
     "output_type": "stream",
     "text": [
      "The start time of an interval (5.52) cannot occur after its end time (5.51)\n",
      "865 (2428, 83705, 20)\n"
     ]
    },
    {
     "name": "stderr",
     "output_type": "stream",
     "text": [
      " 32%|███▏      | 872/2703 [08:55<17:13,  1.77it/s]"
     ]
    },
    {
     "name": "stdout",
     "output_type": "stream",
     "text": [
      "The start time of an interval (10.2) cannot occur after its end time (10.19)\n",
      "871 (2428, 83705, 26)\n"
     ]
    },
    {
     "name": "stderr",
     "output_type": "stream",
     "text": [
      " 37%|███▋      | 990/2703 [09:59<16:27,  1.73it/s]"
     ]
    },
    {
     "name": "stdout",
     "output_type": "stream",
     "text": [
      "The start time of an interval (6.32) cannot occur after its end time (6.32)\n",
      "989 (2803, 154328, 10)\n"
     ]
    },
    {
     "name": "stderr",
     "output_type": "stream",
     "text": [
      " 42%|████▏     | 1140/2703 [12:00<12:36,  2.07it/s]"
     ]
    },
    {
     "name": "stdout",
     "output_type": "stream",
     "text": [
      "The start time of an interval (2.72) cannot occur after its end time (2.71)\n",
      "1139 (3081, 166546, 33)\n"
     ]
    },
    {
     "name": "stderr",
     "output_type": "stream",
     "text": [
      " 44%|████▍     | 1183/2703 [12:17<09:09,  2.77it/s]"
     ]
    },
    {
     "name": "stdout",
     "output_type": "stream",
     "text": [
      "The start time of an interval (1.92) cannot occur after its end time (1.92)\n",
      "1182 (3081, 166546, 76)\n"
     ]
    },
    {
     "name": "stderr",
     "output_type": "stream",
     "text": [
      " 47%|████▋     | 1275/2703 [13:27<20:01,  1.19it/s]"
     ]
    },
    {
     "name": "stdout",
     "output_type": "stream",
     "text": [
      "The start time of an interval (7.44) cannot occur after its end time (7.44)\n",
      "1274 (3536, 23268, 29)\n"
     ]
    },
    {
     "name": "stderr",
     "output_type": "stream",
     "text": [
      " 48%|████▊     | 1286/2703 [13:38<14:27,  1.63it/s]"
     ]
    },
    {
     "name": "stdout",
     "output_type": "stream",
     "text": [
      "The start time of an interval (2.0) cannot occur after its end time (1.99)\n",
      "1285 (3536, 8226, 9)\n"
     ]
    },
    {
     "name": "stderr",
     "output_type": "stream",
     "text": [
      " 48%|████▊     | 1287/2703 [13:38<15:44,  1.50it/s]"
     ]
    },
    {
     "name": "stdout",
     "output_type": "stream",
     "text": [
      "The start time of an interval (9.48) cannot occur after its end time (9.48)\n",
      "1286 (3536, 8226, 10)\n"
     ]
    },
    {
     "name": "stderr",
     "output_type": "stream",
     "text": [
      " 49%|████▉     | 1335/2703 [14:19<28:51,  1.27s/it]"
     ]
    },
    {
     "name": "stdout",
     "output_type": "stream",
     "text": [
      "The start time of an interval (7.52) cannot occur after its end time (7.51)\n",
      "1334 (3576, 138058, 25)\n"
     ]
    },
    {
     "name": "stderr",
     "output_type": "stream",
     "text": [
      " 50%|████▉     | 1341/2703 [14:24<16:44,  1.36it/s]"
     ]
    },
    {
     "name": "stdout",
     "output_type": "stream",
     "text": [
      "The start time of an interval (2.8) cannot occur after its end time (2.79)\n",
      "1340 (3576, 138058, 31)\n"
     ]
    },
    {
     "name": "stderr",
     "output_type": "stream",
     "text": [
      " 51%|█████     | 1375/2703 [14:46<08:33,  2.59it/s]"
     ]
    },
    {
     "name": "stdout",
     "output_type": "stream",
     "text": [
      "The start time of an interval (5.64) cannot occur after its end time (5.64)\n",
      "1374 (3752, 4943, 24)\n"
     ]
    },
    {
     "name": "stderr",
     "output_type": "stream",
     "text": [
      " 51%|█████▏    | 1390/2703 [14:50<05:44,  3.81it/s]"
     ]
    },
    {
     "name": "stdout",
     "output_type": "stream",
     "text": [
      "The start time of an interval (1.92) cannot occur after its end time (1.92)\n",
      "1389 (3752, 4944, 8)\n"
     ]
    },
    {
     "name": "stderr",
     "output_type": "stream",
     "text": [
      " 52%|█████▏    | 1397/2703 [14:53<08:34,  2.54it/s]"
     ]
    },
    {
     "name": "stdout",
     "output_type": "stream",
     "text": [
      "The start time of an interval (4.12) cannot occur after its end time (4.12)\n",
      "1396 (3752, 4944, 15)\n"
     ]
    },
    {
     "name": "stderr",
     "output_type": "stream",
     "text": [
      " 52%|█████▏    | 1419/2703 [15:05<08:25,  2.54it/s]"
     ]
    },
    {
     "name": "stdout",
     "output_type": "stream",
     "text": [
      "The start time of an interval (2.56) cannot occur after its end time (2.56)\n",
      "1418 (3752, 4944, 37)\n"
     ]
    },
    {
     "name": "stderr",
     "output_type": "stream",
     "text": [
      " 53%|█████▎    | 1433/2703 [15:10<07:14,  2.92it/s]"
     ]
    },
    {
     "name": "stdout",
     "output_type": "stream",
     "text": [
      "The start time of an interval (3.52) cannot occur after its end time (3.52)\n",
      "1432 (3752, 4944, 51)\n"
     ]
    },
    {
     "name": "stderr",
     "output_type": "stream",
     "text": [
      " 53%|█████▎    | 1439/2703 [15:13<08:30,  2.48it/s]"
     ]
    },
    {
     "name": "stdout",
     "output_type": "stream",
     "text": [
      "The start time of an interval (2.52) cannot occur after its end time (2.52)\n",
      "1438 (3752, 4944, 57)\n"
     ]
    },
    {
     "name": "stderr",
     "output_type": "stream",
     "text": [
      " 54%|█████▎    | 1449/2703 [15:17<08:09,  2.56it/s]"
     ]
    },
    {
     "name": "stdout",
     "output_type": "stream",
     "text": [
      "The start time of an interval (2.68) cannot occur after its end time (2.68)\n",
      "1448 (3752, 4944, 67)\n"
     ]
    },
    {
     "name": "stderr",
     "output_type": "stream",
     "text": [
      " 54%|█████▍    | 1459/2703 [15:25<14:10,  1.46it/s]"
     ]
    },
    {
     "name": "stdout",
     "output_type": "stream",
     "text": [
      "The start time of an interval (5.48) cannot occur after its end time (5.48)\n",
      "1458 (3853, 163249, 7)\n"
     ]
    },
    {
     "name": "stderr",
     "output_type": "stream",
     "text": [
      " 54%|█████▍    | 1467/2703 [15:30<13:26,  1.53it/s]"
     ]
    },
    {
     "name": "stdout",
     "output_type": "stream",
     "text": [
      "The start time of an interval (2.28) cannot occur after its end time (2.28)\n",
      "1466 (3853, 163249, 15)\n"
     ]
    },
    {
     "name": "stderr",
     "output_type": "stream",
     "text": [
      " 55%|█████▍    | 1484/2703 [15:45<21:22,  1.05s/it]"
     ]
    },
    {
     "name": "stdout",
     "output_type": "stream",
     "text": [
      "The start time of an interval (5.32) cannot occur after its end time (5.32)\n",
      "1483 (3853, 163249, 32)\n"
     ]
    },
    {
     "name": "stderr",
     "output_type": "stream",
     "text": [
      " 59%|█████▉    | 1595/2703 [18:52<13:27,  1.37it/s]  "
     ]
    },
    {
     "name": "stdout",
     "output_type": "stream",
     "text": [
      "The start time of an interval (1.92) cannot occur after its end time (1.92)\n",
      "1594 (5338, 284437, 25)\n"
     ]
    },
    {
     "name": "stderr",
     "output_type": "stream",
     "text": [
      " 59%|█████▉    | 1599/2703 [18:56<15:28,  1.19it/s]"
     ]
    },
    {
     "name": "stdout",
     "output_type": "stream",
     "text": [
      "The start time of an interval (7.56) cannot occur after its end time (7.56)\n",
      "1598 (5338, 284437, 29)\n"
     ]
    },
    {
     "name": "stderr",
     "output_type": "stream",
     "text": [
      " 60%|██████    | 1630/2703 [19:28<16:00,  1.12it/s]"
     ]
    },
    {
     "name": "stdout",
     "output_type": "stream",
     "text": [
      "The start time of an interval (4.32) cannot occur after its end time (4.32)\n",
      "1629 (5536, 43359, 6)\n"
     ]
    },
    {
     "name": "stderr",
     "output_type": "stream",
     "text": [
      " 61%|██████    | 1643/2703 [19:41<15:15,  1.16it/s]"
     ]
    },
    {
     "name": "stdout",
     "output_type": "stream",
     "text": [
      "The start time of an interval (2.8) cannot occur after its end time (2.8)\n",
      "1642 (5536, 43363, 0)\n"
     ]
    },
    {
     "name": "stderr",
     "output_type": "stream",
     "text": [
      " 62%|██████▏   | 1667/2703 [20:11<16:06,  1.07it/s]"
     ]
    },
    {
     "name": "stdout",
     "output_type": "stream",
     "text": [
      "The start time of an interval (3.68) cannot occur after its end time (3.68)\n",
      "1666 (5694, 64025, 4)\n"
     ]
    },
    {
     "name": "stderr",
     "output_type": "stream",
     "text": [
      " 63%|██████▎   | 1695/2703 [20:44<15:40,  1.07it/s]"
     ]
    },
    {
     "name": "stdout",
     "output_type": "stream",
     "text": [
      "The start time of an interval (3.0) cannot occur after its end time (3.0)\n",
      "1694 (5694, 64029, 8)\n"
     ]
    },
    {
     "name": "stderr",
     "output_type": "stream",
     "text": [
      " 63%|██████▎   | 1705/2703 [20:53<14:07,  1.18it/s]"
     ]
    },
    {
     "name": "stdout",
     "output_type": "stream",
     "text": [
      "The start time of an interval (2.48) cannot occur after its end time (2.47)\n",
      "1704 (5694, 64029, 18)\n"
     ]
    },
    {
     "name": "stderr",
     "output_type": "stream",
     "text": [
      " 63%|██████▎   | 1706/2703 [20:54<13:14,  1.25it/s]"
     ]
    },
    {
     "name": "stdout",
     "output_type": "stream",
     "text": [
      "The start time of an interval (3.4) cannot occur after its end time (3.4)\n",
      "1705 (5694, 64029, 19)\n"
     ]
    },
    {
     "name": "stderr",
     "output_type": "stream",
     "text": [
      " 69%|██████▉   | 1861/2703 [23:00<13:15,  1.06it/s]"
     ]
    },
    {
     "name": "stdout",
     "output_type": "stream",
     "text": [
      "The start time of an interval (6.0) cannot occur after its end time (6.0)\n",
      "1860 (6241, 61946, 7)\n"
     ]
    },
    {
     "name": "stderr",
     "output_type": "stream",
     "text": [
      " 69%|██████▉   | 1875/2703 [23:15<18:49,  1.36s/it]"
     ]
    },
    {
     "name": "stdout",
     "output_type": "stream",
     "text": [
      "The start time of an interval (4.44) cannot occur after its end time (4.44)\n",
      "1874 (6241, 61946, 21)\n"
     ]
    },
    {
     "name": "stderr",
     "output_type": "stream",
     "text": [
      " 71%|███████   | 1918/2703 [24:10<14:08,  1.08s/it]"
     ]
    },
    {
     "name": "stdout",
     "output_type": "stream",
     "text": [
      "The start time of an interval (2.0) cannot occur after its end time (2.0)\n",
      "1917 (6295, 244435, 14)\n"
     ]
    },
    {
     "name": "stderr",
     "output_type": "stream",
     "text": [
      " 71%|███████▏  | 1927/2703 [24:20<12:29,  1.04it/s]"
     ]
    },
    {
     "name": "stdout",
     "output_type": "stream",
     "text": [
      "The start time of an interval (3.4) cannot occur after its end time (3.39)\n",
      "1926 (6295, 244435, 23)\n"
     ]
    },
    {
     "name": "stderr",
     "output_type": "stream",
     "text": [
      " 73%|███████▎  | 1986/2703 [25:32<08:21,  1.43it/s]"
     ]
    },
    {
     "name": "stdout",
     "output_type": "stream",
     "text": [
      "The start time of an interval (4.48) cannot occur after its end time (4.47)\n",
      "1985 (6313, 66125, 8)\n"
     ]
    },
    {
     "name": "stderr",
     "output_type": "stream",
     "text": [
      " 74%|███████▎  | 1991/2703 [25:36<07:26,  1.59it/s]"
     ]
    },
    {
     "name": "stdout",
     "output_type": "stream",
     "text": [
      "The start time of an interval (2.04) cannot occur after its end time (2.04)\n",
      "1990 (6313, 66125, 13)\n"
     ]
    },
    {
     "name": "stderr",
     "output_type": "stream",
     "text": [
      " 75%|███████▍  | 2015/2703 [25:56<07:49,  1.47it/s]"
     ]
    },
    {
     "name": "stdout",
     "output_type": "stream",
     "text": [
      "The start time of an interval (4.76) cannot occur after its end time (4.76)\n",
      "2014 (6313, 66129, 9)\n"
     ]
    },
    {
     "name": "stderr",
     "output_type": "stream",
     "text": [
      " 75%|███████▍  | 2017/2703 [25:57<07:11,  1.59it/s]"
     ]
    },
    {
     "name": "stdout",
     "output_type": "stream",
     "text": [
      "The start time of an interval (2.2) cannot occur after its end time (2.2)\n",
      "2016 (6313, 66129, 11)\n"
     ]
    },
    {
     "name": "stderr",
     "output_type": "stream",
     "text": [
      " 76%|███████▌  | 2049/2703 [26:24<06:42,  1.62it/s]"
     ]
    },
    {
     "name": "stdout",
     "output_type": "stream",
     "text": [
      "The start time of an interval (3.68) cannot occur after its end time (3.68)\n",
      "2048 (6313, 76958, 7)\n"
     ]
    },
    {
     "name": "stderr",
     "output_type": "stream",
     "text": [
      " 76%|███████▌  | 2061/2703 [26:35<07:49,  1.37it/s]"
     ]
    },
    {
     "name": "stdout",
     "output_type": "stream",
     "text": [
      "The start time of an interval (3.08) cannot occur after its end time (3.08)\n",
      "2060 (6313, 76958, 19)\n"
     ]
    },
    {
     "name": "stderr",
     "output_type": "stream",
     "text": [
      " 80%|███████▉  | 2161/2703 [28:31<05:50,  1.54it/s]"
     ]
    },
    {
     "name": "stdout",
     "output_type": "stream",
     "text": [
      "The start time of an interval (2.12) cannot occur after its end time (2.11)\n",
      "2160 (6345, 93302, 11)\n"
     ]
    },
    {
     "name": "stderr",
     "output_type": "stream",
     "text": [
      " 80%|████████  | 2164/2703 [28:33<06:21,  1.41it/s]"
     ]
    },
    {
     "name": "stdout",
     "output_type": "stream",
     "text": [
      "The start time of an interval (6.08) cannot occur after its end time (6.08)\n",
      "2163 (6345, 93302, 14)\n"
     ]
    },
    {
     "name": "stderr",
     "output_type": "stream",
     "text": [
      " 80%|████████  | 2172/2703 [28:39<04:42,  1.88it/s]"
     ]
    },
    {
     "name": "stdout",
     "output_type": "stream",
     "text": [
      "The start time of an interval (2.56) cannot occur after its end time (2.55)\n",
      "2171 (6345, 93302, 22)\n"
     ]
    },
    {
     "name": "stderr",
     "output_type": "stream",
     "text": [
      " 80%|████████  | 2173/2703 [28:39<05:27,  1.62it/s]"
     ]
    },
    {
     "name": "stdout",
     "output_type": "stream",
     "text": [
      "The start time of an interval (5.52) cannot occur after its end time (5.51)\n",
      "2172 (6345, 93302, 23)\n"
     ]
    },
    {
     "name": "stderr",
     "output_type": "stream",
     "text": [
      " 80%|████████  | 2174/2703 [28:40<05:16,  1.67it/s]"
     ]
    },
    {
     "name": "stdout",
     "output_type": "stream",
     "text": [
      "The start time of an interval (2.52) cannot occur after its end time (2.52)\n",
      "2173 (6345, 93302, 24)\n"
     ]
    },
    {
     "name": "stderr",
     "output_type": "stream",
     "text": [
      " 81%|████████  | 2179/2703 [28:46<12:13,  1.40s/it]"
     ]
    },
    {
     "name": "stdout",
     "output_type": "stream",
     "text": [
      "The start time of an interval (13.12) cannot occur after its end time (13.12)\n",
      "2178 (6345, 93302, 29)\n"
     ]
    },
    {
     "name": "stderr",
     "output_type": "stream",
     "text": [
      " 81%|████████  | 2187/2703 [29:00<11:21,  1.32s/it]"
     ]
    },
    {
     "name": "stdout",
     "output_type": "stream",
     "text": [
      "The start time of an interval (5.12) cannot occur after its end time (5.11)\n",
      "2186 (6345, 93306, 7)\n"
     ]
    },
    {
     "name": "stderr",
     "output_type": "stream",
     "text": [
      " 81%|████████  | 2192/2703 [29:05<09:04,  1.07s/it]"
     ]
    },
    {
     "name": "stdout",
     "output_type": "stream",
     "text": [
      "The start time of an interval (2.56) cannot occur after its end time (2.55)\n",
      "2191 (6345, 93306, 12)\n"
     ]
    },
    {
     "name": "stderr",
     "output_type": "stream",
     "text": [
      " 83%|████████▎ | 2256/2703 [29:45<03:09,  2.36it/s]"
     ]
    },
    {
     "name": "stdout",
     "output_type": "stream",
     "text": [
      "The start time of an interval (7.76) cannot occur after its end time (7.76)\n",
      "2255 (652, 130726, 29)\n"
     ]
    },
    {
     "name": "stderr",
     "output_type": "stream",
     "text": [
      " 83%|████████▎ | 2257/2703 [29:45<02:43,  2.73it/s]"
     ]
    },
    {
     "name": "stdout",
     "output_type": "stream",
     "text": [
      "The start time of an interval (2.84) cannot occur after its end time (2.83)\n",
      "2256 (652, 130726, 30)\n"
     ]
    },
    {
     "name": "stderr",
     "output_type": "stream",
     "text": [
      " 84%|████████▎ | 2262/2703 [29:48<03:51,  1.90it/s]"
     ]
    },
    {
     "name": "stdout",
     "output_type": "stream",
     "text": [
      "The start time of an interval (5.08) cannot occur after its end time (5.07)\n",
      "2261 (652, 130726, 35)\n"
     ]
    },
    {
     "name": "stderr",
     "output_type": "stream",
     "text": [
      " 91%|█████████ | 2448/2703 [31:10<01:51,  2.28it/s]"
     ]
    },
    {
     "name": "stdout",
     "output_type": "stream",
     "text": [
      "The start time of an interval (1.92) cannot occur after its end time (1.92)\n",
      "2447 (7976, 105575, 17)\n"
     ]
    },
    {
     "name": "stderr",
     "output_type": "stream",
     "text": [
      " 93%|█████████▎| 2503/2703 [31:34<01:42,  1.95it/s]"
     ]
    },
    {
     "name": "stdout",
     "output_type": "stream",
     "text": [
      "The start time of an interval (3.12) cannot occur after its end time (3.12)\n",
      "2502 (7976, 110523, 16)\n"
     ]
    },
    {
     "name": "stderr",
     "output_type": "stream",
     "text": [
      " 96%|█████████▌| 2592/2703 [32:15<00:50,  2.20it/s]"
     ]
    },
    {
     "name": "stdout",
     "output_type": "stream",
     "text": [
      "The start time of an interval (7.0) cannot occur after its end time (7.0)\n",
      "2591 (84, 121123, 8)\n"
     ]
    },
    {
     "name": "stderr",
     "output_type": "stream",
     "text": [
      " 96%|█████████▌| 2595/2703 [32:16<00:40,  2.64it/s]"
     ]
    },
    {
     "name": "stdout",
     "output_type": "stream",
     "text": [
      "The start time of an interval (3.24) cannot occur after its end time (3.23)\n",
      "2594 (84, 121123, 11)\n"
     ]
    },
    {
     "name": "stderr",
     "output_type": "stream",
     "text": [
      " 97%|█████████▋| 2614/2703 [32:23<00:43,  2.04it/s]"
     ]
    },
    {
     "name": "stdout",
     "output_type": "stream",
     "text": [
      "The start time of an interval (7.96) cannot occur after its end time (7.96)\n",
      "2613 (84, 121550, 1)\n"
     ]
    },
    {
     "name": "stderr",
     "output_type": "stream",
     "text": [
      " 97%|█████████▋| 2617/2703 [32:25<00:46,  1.83it/s]"
     ]
    },
    {
     "name": "stdout",
     "output_type": "stream",
     "text": [
      "The start time of an interval (7.96) cannot occur after its end time (7.95)\n",
      "2616 (84, 121550, 4)\n"
     ]
    },
    {
     "name": "stderr",
     "output_type": "stream",
     "text": [
      " 97%|█████████▋| 2635/2703 [32:36<00:39,  1.74it/s]"
     ]
    },
    {
     "name": "stdout",
     "output_type": "stream",
     "text": [
      "The start time of an interval (7.64) cannot occur after its end time (7.63)\n",
      "2634 (84, 121550, 22)\n"
     ]
    },
    {
     "name": "stderr",
     "output_type": "stream",
     "text": [
      " 98%|█████████▊| 2655/2703 [32:48<00:32,  1.46it/s]"
     ]
    },
    {
     "name": "stdout",
     "output_type": "stream",
     "text": [
      "The start time of an interval (5.36) cannot occur after its end time (5.35)\n",
      "2654 (8842, 302196, 6)\n"
     ]
    },
    {
     "name": "stderr",
     "output_type": "stream",
     "text": [
      " 99%|█████████▉| 2685/2703 [33:04<00:08,  2.11it/s]"
     ]
    },
    {
     "name": "stdout",
     "output_type": "stream",
     "text": [
      "The start time of an interval (3.68) cannot occur after its end time (3.68)\n",
      "2684 (8842, 302203, 7)\n"
     ]
    },
    {
     "name": "stderr",
     "output_type": "stream",
     "text": [
      "100%|██████████| 2703/2703 [33:16<00:00,  1.35it/s]\n"
     ]
    }
   ],
   "source": [
    "utt_i=0\n",
    "for audio_frames, text, ids in tqdm(LibriSpeech()):\n",
    "    try:\n",
    "        features = encoder(audio_frames)\n",
    "        outputs = recognizer.forward(features)\n",
    "\n",
    "        tg = tgio.Textgrid()\n",
    "        tg.minTimestamp = 0\n",
    "        tg.maxTimestamp = outputs.size()[0] / 25\n",
    "\n",
    "        tier_name = 'phones'\n",
    "        phones_tier = tgio.IntervalTier(tier_name, [], minT=0, maxT=tg.maxTimestamp)\n",
    "\n",
    "        intervals = []\n",
    "        output_tokens = torch.argmax(outputs, dim=1)\n",
    "        decoded_output_tokens = vocab.decode(output_tokens)\n",
    "        prev_token, prev_start = None, 0\n",
    "\n",
    "        for i, token in enumerate(decoded_output_tokens):\n",
    "            if prev_token != token and prev_token:\n",
    "                intervals.append(Interval(prevStart, i/25, prev_token))\n",
    "                prev_token = token\n",
    "                prevStart = i/25\n",
    "            elif not prev_token:\n",
    "                prev_token = token\n",
    "        if prev_token:\n",
    "            intervals.append(Interval(prevStart, tg.maxTimestamp, prev_token))\n",
    "\n",
    "        new_phonemes_tier = phones_tier.new(entries=intervals)\n",
    "        tg.addTier(new_phonemes_tier)\n",
    "\n",
    "        tg.save(f'{output_dir}/{ids[0]}_{ids[1]}_{ids[2]}.TextGrid',\n",
    "                includeBlankSpaces=True,\n",
    "                format='long_textgrid',\n",
    "                reportingMode='error')\n",
    "    except Exception as e:\n",
    "        print(e)\n",
    "        print(utt_i, ids)\n",
    "    utt_i += 1"
   ]
  },
  {
   "cell_type": "code",
   "execution_count": null,
   "metadata": {},
   "outputs": [],
   "source": []
  }
 ],
 "metadata": {
  "kernelspec": {
   "display_name": "Python 3",
   "language": "python",
   "name": "python3"
  },
  "language_info": {
   "codemirror_mode": {
    "name": "ipython",
    "version": 3
   },
   "file_extension": ".py",
   "mimetype": "text/x-python",
   "name": "python",
   "nbconvert_exporter": "python",
   "pygments_lexer": "ipython3",
   "version": "3.9.10"
  },
  "orig_nbformat": 4
 },
 "nbformat": 4,
 "nbformat_minor": 2
}
